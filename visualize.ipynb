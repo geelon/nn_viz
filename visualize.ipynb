{
 "cells": [
  {
   "cell_type": "markdown",
   "metadata": {},
   "source": [
    "# Visualizing NN Training"
   ]
  },
  {
   "cell_type": "code",
   "execution_count": 1,
   "metadata": {
    "collapsed": true
   },
   "outputs": [],
   "source": [
    "%load_ext autoreload\n",
    "%autoreload 2"
   ]
  },
  {
   "cell_type": "code",
   "execution_count": 2,
   "metadata": {
    "collapsed": true
   },
   "outputs": [],
   "source": [
    "import numpy as np\n",
    "import pandas as pd\n",
    "import tensorflow as tf\n",
    "import matplotlib.pyplot as plt\n",
    "import model\n",
    "import dataset.iris_data as iris_data\n",
    "import dataset.binary as binary"
   ]
  },
  {
   "cell_type": "code",
   "execution_count": 3,
   "metadata": {
    "collapsed": true
   },
   "outputs": [],
   "source": [
    "# Load iris dataset\n",
    "train, test = iris_data.load_data()\n",
    "num_train = train[0].shape[0]\n",
    "train_x, train_y = train\n",
    "test_x, test_y = test"
   ]
  },
  {
   "cell_type": "code",
   "execution_count": null,
   "metadata": {
    "collapsed": true
   },
   "outputs": [],
   "source": [
    "# Transform data to binary\n",
    "transformer = binary.DataTransform(train_x, 3)\n",
    "train_x = transformer.apply_transform(train_x)\n",
    "test_x  = transformer.apply_transform(test_x)\n",
    "\n",
    "train = [train_x, train_y]\n",
    "test  = [test_x , test_y]"
   ]
  },
  {
   "cell_type": "code",
   "execution_count": 4,
   "metadata": {
    "collapsed": true
   },
   "outputs": [],
   "source": [
    "# Define learning problem\n",
    "iris = model.LearningProblem(input_dim=4, num_classes=3, train=train, test=test, path=\"./tmp/\")"
   ]
  },
  {
   "cell_type": "code",
   "execution_count": null,
   "metadata": {
    "collapsed": true
   },
   "outputs": [],
   "source": [
    "# Generate learning models            \n",
    "#  [4 dim input] ==> [2 dim hidden] ==> [n dim hidden] ==> [3 dim output]\n",
    "n_dim = [4]\n",
    "for i in range(len(n_dim)):\n",
    "    iris.load_model(\"bin_four_{}\".format(i), hidden_dims=[2,i])"
   ]
  },
  {
   "cell_type": "code",
   "execution_count": null,
   "metadata": {
    "collapsed": true
   },
   "outputs": [],
   "source": [
    "loss_curves = dict()\n",
    "names = ['bin_four_{}'.format(i) for i in range(len(n_dim))]\n",
    "with model.Session(iris) as sess:\n",
    "    for m in names:\n",
    "        sess.set_current_model(m)\n",
    "        loss_curves[m] = sess.quick_train(epochs=50000)"
   ]
  },
  {
   "cell_type": "code",
   "execution_count": null,
   "metadata": {
    "collapsed": true
   },
   "outputs": [],
   "source": [
    "# Plot loss curves\n",
    "for m in names:\n",
    "    plt.plot(loss_curves[m])\n",
    "plt.legend(names)\n",
    "plt.xlim((0,50000))\n",
    "plt.ylim((0,1.5))\n",
    "plt.title('Loss curves for bin')\n",
    "plt.savefig('loss_curve_bin.png',dpi=200)\n",
    "plt.show()"
   ]
  },
  {
   "cell_type": "code",
   "execution_count": 5,
   "metadata": {},
   "outputs": [
    {
     "data": {
      "text/plain": [
       "<model.learning_model.MLP at 0x7f604ce71c88>"
      ]
     },
     "execution_count": 5,
     "metadata": {},
     "output_type": "execute_result"
    }
   ],
   "source": [
    "iris.load_model(\"weights_test\", hidden_dims=[6,4])"
   ]
  },
  {
   "cell_type": "code",
   "execution_count": null,
   "metadata": {
    "collapsed": true
   },
   "outputs": [],
   "source": [
    "with model.Session(iris) as sess:\n",
    "    sess.set_current_model(\"binary_test\")\n",
    "    loss_curve, loss_curve_v = sess.quick_train(epochs=10000, validate=True)"
   ]
  },
  {
   "cell_type": "code",
   "execution_count": null,
   "metadata": {
    "collapsed": true
   },
   "outputs": [],
   "source": [
    "plt.plot(loss_curve['loss'])\n",
    "plt.plot(loss_curve_v['loss_test'])\n",
    "plt.legend([\"Train\",\"Test\"])\n",
    "plt.title('Training vs. Test Loss')\n",
    "plt.savefig('binary_3.png',dpi=600)\n",
    "plt.show()"
   ]
  },
  {
   "cell_type": "code",
   "execution_count": null,
   "metadata": {},
   "outputs": [
    {
     "name": "stdout",
     "output_type": "stream",
     "text": [
      "Initializing variables for weights_test.\n",
      "Current Epoch: 30133"
     ]
    }
   ],
   "source": [
    "with model.Session(iris) as sess:\n",
    "    sess.set_current_model(\"weights_test\")\n",
    "    loss_curve, loss_curve_v, weights_curve, biases_curve = sess.all_stats(epochs=100000, validate=True, verbose=True)"
   ]
  },
  {
   "cell_type": "code",
   "execution_count": null,
   "metadata": {},
   "outputs": [],
   "source": [
    "plt.plot(weights_curve)\n",
    "plt.plot(loss_curve)\n",
    "plt.plot(loss_curve_v)\n",
    "plt.legend(['w1','w2','w3','loss_train','loss_test'])\n",
    "plt.title('Weights Evolution')\n",
    "plt.savefig('weights_evolution.png',dpi=600)\n",
    "plt.show()"
   ]
  },
  {
   "cell_type": "code",
   "execution_count": null,
   "metadata": {},
   "outputs": [],
   "source": [
    "plt.plot(loss_curve)\n",
    "plt.plot(loss_curve_v)\n",
    "plt.legend(['loss_train','loss_test'])\n",
    "plt.title('Train vs. Test Loss')\n",
    "plt.savefig('loss.png',dpi=600)\n",
    "plt.show()"
   ]
  },
  {
   "cell_type": "code",
   "execution_count": null,
   "metadata": {},
   "outputs": [],
   "source": [
    "MIN = 0\n",
    "MAX = 10000\n",
    "plt.plot(weights_curve[MIN:MAX])\n",
    "plt.plot(loss_curve[MIN:MAX])\n",
    "plt.plot(loss_curve_v[MIN:MAX])\n",
    "plt.yscale('log')\n",
    "plt.legend(['w1','w2','w3','loss_train','loss_test'])\n",
    "plt.title('Weights Evolution')\n",
    "plt.savefig('weights_evolution_zoom.png',dpi=600)\n",
    "plt.show()"
   ]
  }
 ],
 "metadata": {
  "kernelspec": {
   "display_name": "Python 3",
   "language": "python",
   "name": "python3"
  },
  "language_info": {
   "codemirror_mode": {
    "name": "ipython",
    "version": 3
   },
   "file_extension": ".py",
   "mimetype": "text/x-python",
   "name": "python",
   "nbconvert_exporter": "python",
   "pygments_lexer": "ipython3",
   "version": "3.5.3"
  }
 },
 "nbformat": 4,
 "nbformat_minor": 2
}
