{
 "cells": [
  {
   "cell_type": "markdown",
   "metadata": {},
   "source": [
    "# Visualizing NN Training"
   ]
  },
  {
   "cell_type": "code",
   "execution_count": 1,
   "metadata": {},
   "outputs": [],
   "source": [
    "%load_ext autoreload\n",
    "%autoreload 2"
   ]
  },
  {
   "cell_type": "code",
   "execution_count": 2,
   "metadata": {},
   "outputs": [],
   "source": [
    "import numpy as np\n",
    "import pandas as pd\n",
    "import tensorflow as tf\n",
    "import matplotlib.pyplot as plt\n",
    "import model\n",
    "import dataset.iris_data as iris_data"
   ]
  },
  {
   "cell_type": "code",
   "execution_count": 3,
   "metadata": {},
   "outputs": [],
   "source": [
    "# Load iris dataset\n",
    "train, test = iris_data.load_data()\n",
    "num_train = train[0].shape[0]\n",
    "train_x, train_y = train"
   ]
  },
  {
   "cell_type": "code",
   "execution_count": 4,
   "metadata": {},
   "outputs": [],
   "source": [
    "# Define learning problem\n",
    "iris = model.LearningProblem(input_dim=4, num_classes=3, train=train, test=test, path=\"./tmp/\")"
   ]
  },
  {
   "cell_type": "code",
   "execution_count": 5,
   "metadata": {},
   "outputs": [],
   "source": [
    "# Generate learning models            \n",
    "#  [4 dim input] ==> [2 dim hidden] ==> [n dim hidden] ==> [3 dim output]\n",
    "n_dim = [2,3,4,5,6,7,8,9,10,15]\n",
    "for i in n_dim:\n",
    "    iris.load_model(\"hidden_{}\".format(i), hidden_dims=[2,i])"
   ]
  },
  {
   "cell_type": "code",
   "execution_count": 6,
   "metadata": {},
   "outputs": [
    {
     "name": "stdout",
     "output_type": "stream",
     "text": [
      "Restoring variables for hidden_2.\n",
      "INFO:tensorflow:Restoring parameters from ./tmp//hidden_2/model.ckpt\n",
      "Restoring variables for hidden_3.\n",
      "INFO:tensorflow:Restoring parameters from ./tmp//hidden_3/model.ckpt\n",
      "Restoring variables for hidden_4.\n",
      "INFO:tensorflow:Restoring parameters from ./tmp//hidden_4/model.ckpt\n",
      "Restoring variables for hidden_5.\n",
      "INFO:tensorflow:Restoring parameters from ./tmp//hidden_5/model.ckpt\n",
      "Restoring variables for hidden_6.\n",
      "INFO:tensorflow:Restoring parameters from ./tmp//hidden_6/model.ckpt\n",
      "Restoring variables for hidden_7.\n",
      "INFO:tensorflow:Restoring parameters from ./tmp//hidden_7/model.ckpt\n",
      "Restoring variables for hidden_8.\n",
      "INFO:tensorflow:Restoring parameters from ./tmp//hidden_8/model.ckpt\n",
      "Restoring variables for hidden_9.\n",
      "INFO:tensorflow:Restoring parameters from ./tmp//hidden_9/model.ckpt\n",
      "Restoring variables for hidden_10.\n",
      "INFO:tensorflow:Restoring parameters from ./tmp//hidden_10/model.ckpt\n",
      "Restoring variables for hidden_15.\n",
      "INFO:tensorflow:Restoring parameters from ./tmp//hidden_15/model.ckpt\n"
     ]
    }
   ],
   "source": [
    "loss_curves = dict()\n",
    "names = ['hidden_{}'.format(i) for i in n_dim]\n",
    "with model.Session(iris) as sess:\n",
    "    for m in names:\n",
    "        sess.set_current_model(m)\n",
    "        loss_curves[m] = sess.quick_train(epochs=10000)"
   ]
  },
  {
   "cell_type": "code",
   "execution_count": 7,
   "metadata": {},
   "outputs": [
    {
     "data": {
      "image/png": "[encoded data removed]",
      "text/plain": [
       "<matplotlib.figure.Figure at 0x7f1b52535a58>"
      ]
     },
     "metadata": {},
     "output_type": "display_data"
    }
   ],
   "source": [
    "# Plot loss curves\n",
    "for m in names:\n",
    "    plt.plot(loss_curves[m])\n",
    "plt.legend(names)\n",
    "plt.xlim((2000,10000))\n",
    "plt.ylim((0,0.05))\n",
    "plt.title('Loss curves for different NN architectures')\n",
    "plt.savefig('loss_curves.png')\n",
    "plt.show()"
   ]
  },
  {
   "cell_type": "code",
   "execution_count": null,
   "metadata": {},
   "outputs": [],
   "source": []
  }
 ],
 "metadata": {
  "kernelspec": {
   "display_name": "Python 3",
   "language": "python",
   "name": "python3"
  },
  "language_info": {
   "codemirror_mode": {
    "name": "ipython",
    "version": 3
   },
   "file_extension": ".py",
   "mimetype": "text/x-python",
   "name": "python",
   "nbconvert_exporter": "python",
   "pygments_lexer": "ipython3",
   "version": "3.5.3"
  }
 },
 "nbformat": 4,
 "nbformat_minor": 2
}
