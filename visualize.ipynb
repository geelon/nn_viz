{
 "cells": [
  {
   "cell_type": "markdown",
   "metadata": {},
   "source": [
    "# Visualizing NN Training"
   ]
  },
  {
   "cell_type": "code",
   "execution_count": 1,
   "metadata": {},
   "outputs": [],
   "source": [
    "%load_ext autoreload\n",
    "%autoreload 2"
   ]
  },
  {
   "cell_type": "code",
   "execution_count": 2,
   "metadata": {},
   "outputs": [],
   "source": [
    "import numpy as np\n",
    "import pandas as pd\n",
    "import tensorflow as tf\n",
    "import matplotlib.pyplot as plt\n",
    "import model\n",
    "import dataset.iris_data as iris_data"
   ]
  },
  {
   "cell_type": "code",
   "execution_count": 3,
   "metadata": {},
   "outputs": [],
   "source": [
    "# Load iris dataset\n",
    "train, test = iris_data.load_data()\n",
    "num_train = train[0].shape[0]\n",
    "train_x, train_y = train"
   ]
  },
  {
   "cell_type": "code",
   "execution_count": 4,
   "metadata": {},
   "outputs": [],
   "source": [
    "# Define learning problem\n",
    "iris = model.LearningProblem(input_dim=4, num_classes=3, train=train, test=test, path=\"./tmp/\")"
   ]
  },
  {
   "cell_type": "code",
   "execution_count": null,
   "metadata": {},
   "outputs": [],
   "source": [
    "# Generate learning models            \n",
    "#  [4 dim input] ==> [2 dim hidden] ==> [n dim hidden] ==> [3 dim output]\n",
    "n_dim = [4,4,4,4,4,4,4,4,4,4]\n",
    "for i in range(len(n_dim)):\n",
    "    iris.load_model(\"four_{}\".format(i), hidden_dims=[2,i])"
   ]
  },
  {
   "cell_type": "code",
   "execution_count": null,
   "metadata": {},
   "outputs": [],
   "source": [
    "loss_curves = dict()\n",
    "names = ['four_{}'.format(i) for i in range(len(n_dim))]\n",
    "with model.Session(iris) as sess:\n",
    "    for m in names:\n",
    "        sess.set_current_model(m)\n",
    "        loss_curves[m] = sess.quick_train(epochs=50000)"
   ]
  },
  {
   "cell_type": "code",
   "execution_count": null,
   "metadata": {},
   "outputs": [],
   "source": [
    "# Plot loss curves\n",
    "for m in names:\n",
    "    plt.plot(loss_curves[m])\n",
    "plt.legend(names)\n",
    "plt.xlim((0,50000))\n",
    "plt.ylim((0,1.5))\n",
    "plt.title('Loss curves for different NN architectures continued')\n",
    "plt.savefig('loss_curves.png',dpi=200)\n",
    "plt.show()"
   ]
  },
  {
   "cell_type": "code",
   "execution_count": 5,
   "metadata": {},
   "outputs": [
    {
     "data": {
      "text/plain": [
       "<model.learning_model.MLP at 0x7f3cb90a6fd0>"
      ]
     },
     "execution_count": 5,
     "metadata": {},
     "output_type": "execute_result"
    }
   ],
   "source": [
    "iris.load_model(\"validate_3\", hidden_dims=[2,4])"
   ]
  },
  {
   "cell_type": "code",
   "execution_count": 6,
   "metadata": {},
   "outputs": [
    {
     "name": "stdout",
     "output_type": "stream",
     "text": [
      "WARNING:tensorflow:From /home/geelon/2018-winter/code/visualization/model/learning_model.py:87: softmax_cross_entropy_with_logits (from tensorflow.python.ops.nn_ops) is deprecated and will be removed in a future version.\n",
      "Instructions for updating:\n",
      "\n",
      "Future major versions of TensorFlow will allow gradients to flow\n",
      "into the labels input on backprop by default.\n",
      "\n",
      "See tf.nn.softmax_cross_entropy_with_logits_v2.\n",
      "\n",
      "Initializing variables for validate_3.\n"
     ]
    }
   ],
   "source": [
    "with model.Session(iris) as sess:\n",
    "    sess.set_current_model(\"validate_3\")\n",
    "    loss_curve, loss_curve_v = sess.quick_train(epochs=1000000, validate=True)"
   ]
  },
  {
   "cell_type": "code",
   "execution_count": 11,
   "metadata": {},
   "outputs": [
    {
     "data": {
      "image/png": "[encoded data removed]",
      "text/plain": [
       "<matplotlib.figure.Figure at 0x7f3cb50fbdd8>"
      ]
     },
     "metadata": {},
     "output_type": "display_data"
    }
   ],
   "source": [
    "plt.plot(loss_curve['loss'][0:100000])\n",
    "plt.plot(loss_curve_v['loss_test'][0:100000])\n",
    "plt.legend([\"Train\",\"Test\"])\n",
    "plt.title('Training vs. Test Loss')\n",
    "plt.savefig('validation_trial_1.png',dpi=600)\n",
    "plt.show()"
   ]
  },
  {
   "cell_type": "code",
   "execution_count": null,
   "metadata": {},
   "outputs": [],
   "source": []
  }
 ],
 "metadata": {
  "kernelspec": {
   "display_name": "Python 3",
   "language": "python",
   "name": "python3"
  },
  "language_info": {
   "codemirror_mode": {
    "name": "ipython",
    "version": 3
   },
   "file_extension": ".py",
   "mimetype": "text/x-python",
   "name": "python",
   "nbconvert_exporter": "python",
   "pygments_lexer": "ipython3",
   "version": "3.5.3"
  }
 },
 "nbformat": 4,
 "nbformat_minor": 2
}
