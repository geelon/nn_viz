{
 "cells": [
  {
   "cell_type": "code",
   "execution_count": 1,
   "metadata": {
    "collapsed": true
   },
   "outputs": [],
   "source": [
    "%load_ext autoreload\n",
    "%autoreload 2"
   ]
  },
  {
   "cell_type": "code",
   "execution_count": 3,
   "metadata": {
    "collapsed": true
   },
   "outputs": [],
   "source": [
    "PATH = './tmp/'"
   ]
  },
  {
   "cell_type": "code",
   "execution_count": 36,
   "metadata": {},
   "outputs": [],
   "source": [
    "import json\n",
    "import numpy as np\n",
    "import pandas as pd\n",
    "import os\n",
    "import matplotlib.pyplot as plt"
   ]
  },
  {
   "cell_type": "code",
   "execution_count": 78,
   "metadata": {
    "collapsed": true
   },
   "outputs": [],
   "source": [
    "original_l1 = 'weights_test'\n",
    "original_l2 = 'weights_test_l2'\n",
    "transformed_l1 = 'weights_test_bin_l1'\n",
    "transformed_l2 = 'weights_test_bin_l2'\n",
    "\n",
    "norm = 'l1'\n",
    "name = PATH + transformed_l1 + '/'"
   ]
  },
  {
   "cell_type": "code",
   "execution_count": 79,
   "metadata": {},
   "outputs": [],
   "source": [
    "with open(name + 'info', 'r') as file:\n",
    "    model_info = json.load(file)"
   ]
  },
  {
   "cell_type": "code",
   "execution_count": 80,
   "metadata": {},
   "outputs": [],
   "source": [
    "ckpt_no = model_info['ckpt_no'] - 1\n",
    "train_loss_ = name + 'loss_curve_{}'.format(ckpt_no)\n",
    "test_loss_  = name + 'test_loss_curve_{}'.format(ckpt_no)\n",
    "weights_curve_ = name + 'weights_curve_{}_{}'.format(norm,ckpt_no)"
   ]
  },
  {
   "cell_type": "code",
   "execution_count": 81,
   "metadata": {},
   "outputs": [],
   "source": [
    "train_loss = pd.read_csv(train_loss_, index_col=0)"
   ]
  },
  {
   "cell_type": "code",
   "execution_count": 82,
   "metadata": {},
   "outputs": [],
   "source": [
    "test_loss = pd.read_csv(test_loss_, index_col=0)"
   ]
  },
  {
   "cell_type": "code",
   "execution_count": 83,
   "metadata": {
    "collapsed": true
   },
   "outputs": [],
   "source": [
    "weights_curve = pd.read_csv(weights_curve_, index_col=0)"
   ]
  },
  {
   "cell_type": "code",
   "execution_count": 84,
   "metadata": {},
   "outputs": [],
   "source": [
    "generalization_error = (train_loss - test_loss.rename(columns={'loss_test':'loss'})).abs()\n",
    "generalization_error = generalization_error.rename(columns={'loss':'generalization_err'})"
   ]
  },
  {
   "cell_type": "code",
   "execution_count": 89,
   "metadata": {},
   "outputs": [
    {
     "data": {
      "image/png": "[encoded data removed]",
      "text/plain": [
       "<matplotlib.figure.Figure at 0x7f663b40b978>"
      ]
     },
     "metadata": {},
     "output_type": "display_data"
    }
   ],
   "source": [
    "plt.plot(generalization_error)\n",
    "plt.plot(np.exp(weights_curve/8)/2700)\n",
    "plt.legend(['g_error','w_1','w_2','w_3'])\n",
    "plt.yscale('log')\n",
    "plt.title('Generalization Error v. Weights, transformed l1')\n",
    "plt.xlabel('epoch')\n",
    "plt.savefig('generalization_transformed_l1.png', dpi=300)\n",
    "plt.show()"
   ]
  },
  {
   "cell_type": "code",
   "execution_count": null,
   "metadata": {},
   "outputs": [],
   "source": []
  },
  {
   "cell_type": "code",
   "execution_count": 39,
   "metadata": {},
   "outputs": [
    {
     "data": {
      "text/plain": [
       "['weights_curve_l1_400000',\n",
       " 'model.ckpt.index',\n",
       " 'model.ckpt.data-00000-of-00001',\n",
       " 'checkpoint',\n",
       " 'test_loss_curve_400000',\n",
       " 'loss_curve_400000',\n",
       " 'biases_curve_400000',\n",
       " 'info',\n",
       " 'model.ckpt.meta']"
      ]
     },
     "execution_count": 39,
     "metadata": {},
     "output_type": "execute_result"
    }
   ],
   "source": [
    "os.listdir(name)"
   ]
  }
 ],
 "metadata": {
  "kernelspec": {
   "display_name": "Python 3",
   "language": "python",
   "name": "python3"
  },
  "language_info": {
   "codemirror_mode": {
    "name": "ipython",
    "version": 3
   },
   "file_extension": ".py",
   "mimetype": "text/x-python",
   "name": "python",
   "nbconvert_exporter": "python",
   "pygments_lexer": "ipython3",
   "version": "3.5.3"
  }
 },
 "nbformat": 4,
 "nbformat_minor": 2
}
